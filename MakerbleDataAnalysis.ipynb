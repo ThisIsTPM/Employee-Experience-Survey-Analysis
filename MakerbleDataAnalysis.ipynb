{
 "cells": [
  {
   "cell_type": "markdown",
   "id": "79120dec-aefb-4bf6-87c3-794353097651",
   "metadata": {},
   "source": [
    "# Employee Experience Survey Analysis\n",
    "\n",
    "## Introduction\n",
    "This analysis focuses on the Employee Experience Survey data from a fictional nonprofit organization. The goal is to analyze the survey data using both descriptive and inferential statistics to derive meaningful insights."
   ]
  },
  {
   "cell_type": "markdown",
   "id": "f48d7c6a-f453-4a06-9904-50bb9c65a235",
   "metadata": {},
   "source": [
    "## Data Loading"
   ]
  },
  {
   "cell_type": "code",
   "execution_count": 55,
   "id": "dbca877a-5f33-4bb1-898d-e2afdf83c62c",
   "metadata": {},
   "outputs": [],
   "source": [
    "import pandas as pd\n",
    "\n",
    "data = pd.read_csv('employee_experience_survey_data.csv')"
   ]
  },
  {
   "cell_type": "markdown",
   "id": "2a5df4c0-f6f9-4bbd-8ae0-4556b95f93d1",
   "metadata": {},
   "source": [
    "## Step 1: Data Overview"
   ]
  },
  {
   "cell_type": "code",
   "execution_count": 56,
   "id": "7e0040c0-3256-46f7-8770-16bdff466c19",
   "metadata": {},
   "outputs": [
    {
     "data": {
      "text/html": [
       "<div>\n",
       "<style scoped>\n",
       "    .dataframe tbody tr th:only-of-type {\n",
       "        vertical-align: middle;\n",
       "    }\n",
       "\n",
       "    .dataframe tbody tr th {\n",
       "        vertical-align: top;\n",
       "    }\n",
       "\n",
       "    .dataframe thead th {\n",
       "        text-align: right;\n",
       "    }\n",
       "</style>\n",
       "<table border=\"1\" class=\"dataframe\">\n",
       "  <thead>\n",
       "    <tr style=\"text-align: right;\">\n",
       "      <th></th>\n",
       "      <th>Name</th>\n",
       "      <th>Age Bracket</th>\n",
       "      <th>Gender</th>\n",
       "      <th>Ethnicity</th>\n",
       "      <th>Job Title</th>\n",
       "      <th>Department</th>\n",
       "      <th>Date Survey Completed</th>\n",
       "      <th>Job Satisfaction</th>\n",
       "      <th>Work-Life Balance</th>\n",
       "      <th>Management Support</th>\n",
       "      <th>Team Collaboration</th>\n",
       "      <th>Workload Fairness</th>\n",
       "      <th>Career Development Opportunities</th>\n",
       "      <th>Workplace Inclusivity</th>\n",
       "      <th>Company Communication</th>\n",
       "      <th>Compensation Satisfaction</th>\n",
       "      <th>Job Security</th>\n",
       "      <th>Overall Engagement</th>\n",
       "    </tr>\n",
       "  </thead>\n",
       "  <tbody>\n",
       "    <tr>\n",
       "      <th>0</th>\n",
       "      <td>John Doe</td>\n",
       "      <td>25-34</td>\n",
       "      <td>Female</td>\n",
       "      <td>Asian</td>\n",
       "      <td>Product Manager</td>\n",
       "      <td>Product Development</td>\n",
       "      <td>2024-10-05</td>\n",
       "      <td>Disagree</td>\n",
       "      <td>Strongly Agree</td>\n",
       "      <td>Neutral</td>\n",
       "      <td>Neutral</td>\n",
       "      <td>Neutral</td>\n",
       "      <td>Disagree</td>\n",
       "      <td>Agree</td>\n",
       "      <td>Strongly Agree</td>\n",
       "      <td>Strongly Agree</td>\n",
       "      <td>Agree</td>\n",
       "      <td>Strongly Agree</td>\n",
       "    </tr>\n",
       "    <tr>\n",
       "      <th>1</th>\n",
       "      <td>Jane Smith</td>\n",
       "      <td>18-24</td>\n",
       "      <td>Female</td>\n",
       "      <td>Middle Eastern</td>\n",
       "      <td>Operations Manager</td>\n",
       "      <td>Sales</td>\n",
       "      <td>2024-10-07</td>\n",
       "      <td>Agree</td>\n",
       "      <td>Strongly Disagree</td>\n",
       "      <td>Strongly Agree</td>\n",
       "      <td>Neutral</td>\n",
       "      <td>Neutral</td>\n",
       "      <td>Disagree</td>\n",
       "      <td>Neutral</td>\n",
       "      <td>Neutral</td>\n",
       "      <td>Neutral</td>\n",
       "      <td>Agree</td>\n",
       "      <td>Neutral</td>\n",
       "    </tr>\n",
       "    <tr>\n",
       "      <th>2</th>\n",
       "      <td>Carlos Reyes</td>\n",
       "      <td>45-54</td>\n",
       "      <td>Female</td>\n",
       "      <td>Indian</td>\n",
       "      <td>UX Designer</td>\n",
       "      <td>Consulting</td>\n",
       "      <td>2024-10-08</td>\n",
       "      <td>Neutral</td>\n",
       "      <td>Strongly Disagree</td>\n",
       "      <td>Agree</td>\n",
       "      <td>Disagree</td>\n",
       "      <td>Strongly Agree</td>\n",
       "      <td>Agree</td>\n",
       "      <td>Agree</td>\n",
       "      <td>Strongly Disagree</td>\n",
       "      <td>Neutral</td>\n",
       "      <td>Strongly Agree</td>\n",
       "      <td>Strongly Agree</td>\n",
       "    </tr>\n",
       "    <tr>\n",
       "      <th>3</th>\n",
       "      <td>Emily Zhang</td>\n",
       "      <td>35-44</td>\n",
       "      <td>Male</td>\n",
       "      <td>Caucasian</td>\n",
       "      <td>UX Designer</td>\n",
       "      <td>HR</td>\n",
       "      <td>2024-10-07</td>\n",
       "      <td>Neutral</td>\n",
       "      <td>Agree</td>\n",
       "      <td>Agree</td>\n",
       "      <td>Strongly Disagree</td>\n",
       "      <td>Strongly Disagree</td>\n",
       "      <td>Strongly Agree</td>\n",
       "      <td>Agree</td>\n",
       "      <td>Strongly Disagree</td>\n",
       "      <td>Strongly Disagree</td>\n",
       "      <td>Agree</td>\n",
       "      <td>Neutral</td>\n",
       "    </tr>\n",
       "    <tr>\n",
       "      <th>4</th>\n",
       "      <td>Michael Johnson</td>\n",
       "      <td>18-24</td>\n",
       "      <td>Female</td>\n",
       "      <td>Caucasian</td>\n",
       "      <td>UX Designer</td>\n",
       "      <td>Product Development</td>\n",
       "      <td>2024-10-07</td>\n",
       "      <td>Agree</td>\n",
       "      <td>Strongly Agree</td>\n",
       "      <td>Disagree</td>\n",
       "      <td>Neutral</td>\n",
       "      <td>Strongly Disagree</td>\n",
       "      <td>Disagree</td>\n",
       "      <td>Disagree</td>\n",
       "      <td>Disagree</td>\n",
       "      <td>Strongly Disagree</td>\n",
       "      <td>Neutral</td>\n",
       "      <td>Disagree</td>\n",
       "    </tr>\n",
       "  </tbody>\n",
       "</table>\n",
       "</div>"
      ],
      "text/plain": [
       "              Name Age Bracket  Gender       Ethnicity           Job Title  \\\n",
       "0         John Doe       25-34  Female           Asian     Product Manager   \n",
       "1       Jane Smith       18-24  Female  Middle Eastern  Operations Manager   \n",
       "2     Carlos Reyes       45-54  Female          Indian         UX Designer   \n",
       "3      Emily Zhang       35-44    Male       Caucasian         UX Designer   \n",
       "4  Michael Johnson       18-24  Female       Caucasian         UX Designer   \n",
       "\n",
       "            Department Date Survey Completed Job Satisfaction  \\\n",
       "0  Product Development            2024-10-05         Disagree   \n",
       "1                Sales            2024-10-07            Agree   \n",
       "2           Consulting            2024-10-08          Neutral   \n",
       "3                   HR            2024-10-07          Neutral   \n",
       "4  Product Development            2024-10-07            Agree   \n",
       "\n",
       "   Work-Life Balance Management Support Team Collaboration  Workload Fairness  \\\n",
       "0     Strongly Agree            Neutral            Neutral            Neutral   \n",
       "1  Strongly Disagree     Strongly Agree            Neutral            Neutral   \n",
       "2  Strongly Disagree              Agree           Disagree     Strongly Agree   \n",
       "3              Agree              Agree  Strongly Disagree  Strongly Disagree   \n",
       "4     Strongly Agree           Disagree            Neutral  Strongly Disagree   \n",
       "\n",
       "  Career Development Opportunities Workplace Inclusivity  \\\n",
       "0                         Disagree                 Agree   \n",
       "1                         Disagree               Neutral   \n",
       "2                            Agree                 Agree   \n",
       "3                   Strongly Agree                 Agree   \n",
       "4                         Disagree              Disagree   \n",
       "\n",
       "  Company Communication Compensation Satisfaction    Job Security  \\\n",
       "0        Strongly Agree            Strongly Agree           Agree   \n",
       "1               Neutral                   Neutral           Agree   \n",
       "2     Strongly Disagree                   Neutral  Strongly Agree   \n",
       "3     Strongly Disagree         Strongly Disagree           Agree   \n",
       "4              Disagree         Strongly Disagree         Neutral   \n",
       "\n",
       "  Overall Engagement  \n",
       "0     Strongly Agree  \n",
       "1            Neutral  \n",
       "2     Strongly Agree  \n",
       "3            Neutral  \n",
       "4           Disagree  "
      ]
     },
     "execution_count": 56,
     "metadata": {},
     "output_type": "execute_result"
    }
   ],
   "source": [
    "data.head()"
   ]
  },
  {
   "cell_type": "markdown",
   "id": "d57072a2-2216-44e8-b108-7eb743db9cd0",
   "metadata": {},
   "source": [
    "## Step 2: Convert Likert Scale Responses to Numeric Values"
   ]
  },
  {
   "cell_type": "code",
   "execution_count": 57,
   "id": "4dc3cb42-f28a-48c8-87f0-1d495914899b",
   "metadata": {},
   "outputs": [],
   "source": [
    "# Convert Likert scale responses to numeric values for analysis\n",
    "likert_scale = {\n",
    "    'Strongly Disagree': 1,\n",
    "    'Disagree': 2,\n",
    "    'Neutral': 3,\n",
    "    'Agree': 4,\n",
    "    'Strongly Agree': 5\n",
    "}\n",
    "\n",
    "# Apply the mapping to relevant columns\n",
    "data['Job Satisfaction'] = data['Job Satisfaction'].map(likert_scale)\n",
    "data['Overall Engagement'] = data['Overall Engagement'].map(likert_scale)"
   ]
  },
  {
   "cell_type": "markdown",
   "id": "013618d6-a526-4bd0-907b-b1743be69f7c",
   "metadata": {},
   "source": [
    "## Step 3: Descriptive Statistics\n",
    "### Job Satisfaction and Overall Engagement"
   ]
  },
  {
   "cell_type": "code",
   "execution_count": 58,
   "id": "924fb361-9f5d-4d75-adc7-62d7c32e3e63",
   "metadata": {},
   "outputs": [
    {
     "data": {
      "text/html": [
       "<div>\n",
       "<style scoped>\n",
       "    .dataframe tbody tr th:only-of-type {\n",
       "        vertical-align: middle;\n",
       "    }\n",
       "\n",
       "    .dataframe tbody tr th {\n",
       "        vertical-align: top;\n",
       "    }\n",
       "\n",
       "    .dataframe thead th {\n",
       "        text-align: right;\n",
       "    }\n",
       "</style>\n",
       "<table border=\"1\" class=\"dataframe\">\n",
       "  <thead>\n",
       "    <tr style=\"text-align: right;\">\n",
       "      <th></th>\n",
       "      <th>Job Satisfaction</th>\n",
       "      <th>Overall Engagement</th>\n",
       "    </tr>\n",
       "  </thead>\n",
       "  <tbody>\n",
       "    <tr>\n",
       "      <th>count</th>\n",
       "      <td>15.000000</td>\n",
       "      <td>15.000000</td>\n",
       "    </tr>\n",
       "    <tr>\n",
       "      <th>mean</th>\n",
       "      <td>3.000000</td>\n",
       "      <td>3.400000</td>\n",
       "    </tr>\n",
       "    <tr>\n",
       "      <th>std</th>\n",
       "      <td>1.309307</td>\n",
       "      <td>1.298351</td>\n",
       "    </tr>\n",
       "    <tr>\n",
       "      <th>min</th>\n",
       "      <td>1.000000</td>\n",
       "      <td>1.000000</td>\n",
       "    </tr>\n",
       "    <tr>\n",
       "      <th>25%</th>\n",
       "      <td>2.000000</td>\n",
       "      <td>2.500000</td>\n",
       "    </tr>\n",
       "    <tr>\n",
       "      <th>50%</th>\n",
       "      <td>3.000000</td>\n",
       "      <td>3.000000</td>\n",
       "    </tr>\n",
       "    <tr>\n",
       "      <th>75%</th>\n",
       "      <td>4.000000</td>\n",
       "      <td>4.500000</td>\n",
       "    </tr>\n",
       "    <tr>\n",
       "      <th>max</th>\n",
       "      <td>5.000000</td>\n",
       "      <td>5.000000</td>\n",
       "    </tr>\n",
       "  </tbody>\n",
       "</table>\n",
       "</div>"
      ],
      "text/plain": [
       "       Job Satisfaction  Overall Engagement\n",
       "count         15.000000           15.000000\n",
       "mean           3.000000            3.400000\n",
       "std            1.309307            1.298351\n",
       "min            1.000000            1.000000\n",
       "25%            2.000000            2.500000\n",
       "50%            3.000000            3.000000\n",
       "75%            4.000000            4.500000\n",
       "max            5.000000            5.000000"
      ]
     },
     "execution_count": 58,
     "metadata": {},
     "output_type": "execute_result"
    }
   ],
   "source": [
    "# Descriptive statistics for Job Satisfaction and Overall Engagement\n",
    "descriptive_stats = data[['Job Satisfaction', 'Overall Engagement']].describe()\n",
    "\n",
    "descriptive_stats"
   ]
  },
  {
   "cell_type": "markdown",
   "id": "fe790267-7de5-42ae-b881-87cae0bd6575",
   "metadata": {},
   "source": [
    " ## Step 4: Key Trends Analysis\n",
    " ### Age Bracket, Department and Satisfaction"
   ]
  },
  {
   "cell_type": "code",
   "execution_count": 48,
   "id": "1cf58ba5-2d8c-44b2-ba64-6b50bcc117a0",
   "metadata": {},
   "outputs": [
    {
     "data": {
      "text/html": [
       "<div>\n",
       "<style scoped>\n",
       "    .dataframe tbody tr th:only-of-type {\n",
       "        vertical-align: middle;\n",
       "    }\n",
       "\n",
       "    .dataframe tbody tr th {\n",
       "        vertical-align: top;\n",
       "    }\n",
       "\n",
       "    .dataframe thead th {\n",
       "        text-align: right;\n",
       "    }\n",
       "</style>\n",
       "<table border=\"1\" class=\"dataframe\">\n",
       "  <thead>\n",
       "    <tr style=\"text-align: right;\">\n",
       "      <th></th>\n",
       "      <th></th>\n",
       "      <th>Job Satisfaction</th>\n",
       "      <th>Overall Engagement</th>\n",
       "    </tr>\n",
       "    <tr>\n",
       "      <th>Age Bracket</th>\n",
       "      <th>Department</th>\n",
       "      <th></th>\n",
       "      <th></th>\n",
       "    </tr>\n",
       "  </thead>\n",
       "  <tbody>\n",
       "    <tr>\n",
       "      <th rowspan=\"4\" valign=\"top\">18-24</th>\n",
       "      <th>Design</th>\n",
       "      <td>5.0</td>\n",
       "      <td>1.0</td>\n",
       "    </tr>\n",
       "    <tr>\n",
       "      <th>Finance</th>\n",
       "      <td>4.0</td>\n",
       "      <td>5.0</td>\n",
       "    </tr>\n",
       "    <tr>\n",
       "      <th>Product Development</th>\n",
       "      <td>3.0</td>\n",
       "      <td>3.0</td>\n",
       "    </tr>\n",
       "    <tr>\n",
       "      <th>Sales</th>\n",
       "      <td>3.0</td>\n",
       "      <td>4.0</td>\n",
       "    </tr>\n",
       "    <tr>\n",
       "      <th rowspan=\"3\" valign=\"top\">25-34</th>\n",
       "      <th>HR</th>\n",
       "      <td>5.0</td>\n",
       "      <td>4.0</td>\n",
       "    </tr>\n",
       "    <tr>\n",
       "      <th>Product Development</th>\n",
       "      <td>2.0</td>\n",
       "      <td>5.0</td>\n",
       "    </tr>\n",
       "    <tr>\n",
       "      <th>Sales</th>\n",
       "      <td>2.0</td>\n",
       "      <td>2.0</td>\n",
       "    </tr>\n",
       "    <tr>\n",
       "      <th rowspan=\"2\" valign=\"top\">35-44</th>\n",
       "      <th>HR</th>\n",
       "      <td>3.0</td>\n",
       "      <td>3.0</td>\n",
       "    </tr>\n",
       "    <tr>\n",
       "      <th>IT</th>\n",
       "      <td>1.0</td>\n",
       "      <td>2.0</td>\n",
       "    </tr>\n",
       "    <tr>\n",
       "      <th rowspan=\"2\" valign=\"top\">45-54</th>\n",
       "      <th>Consulting</th>\n",
       "      <td>3.0</td>\n",
       "      <td>4.0</td>\n",
       "    </tr>\n",
       "    <tr>\n",
       "      <th>Operations</th>\n",
       "      <td>2.0</td>\n",
       "      <td>3.0</td>\n",
       "    </tr>\n",
       "  </tbody>\n",
       "</table>\n",
       "</div>"
      ],
      "text/plain": [
       "                                 Job Satisfaction  Overall Engagement\n",
       "Age Bracket Department                                               \n",
       "18-24       Design                            5.0                 1.0\n",
       "            Finance                           4.0                 5.0\n",
       "            Product Development               3.0                 3.0\n",
       "            Sales                             3.0                 4.0\n",
       "25-34       HR                                5.0                 4.0\n",
       "            Product Development               2.0                 5.0\n",
       "            Sales                             2.0                 2.0\n",
       "35-44       HR                                3.0                 3.0\n",
       "            IT                                1.0                 2.0\n",
       "45-54       Consulting                        3.0                 4.0\n",
       "            Operations                        2.0                 3.0"
      ]
     },
     "execution_count": 48,
     "metadata": {},
     "output_type": "execute_result"
    }
   ],
   "source": [
    "# Analyze trends in Job Satisfaction and Overall Engagement based on \n",
    "\n",
    "# Group by Age Bracket and Department, then calculate mean for Job Satisfaction and Overall Engagement\n",
    "grouped_stats = data.groupby(['Age Bracket', 'Department'])[['Job Satisfaction', 'Overall Engagement']].mean()\n",
    "\n",
    "grouped_stats"
   ]
  },
  {
   "cell_type": "markdown",
   "id": "723b0a04-87f7-4bbe-a7c7-ed81f686d903",
   "metadata": {},
   "source": [
    "### Gender and Job Satisfaction`"
   ]
  },
  {
   "cell_type": "code",
   "execution_count": 49,
   "id": "9e8b68be-f092-48cf-85ec-004820c7a8a7",
   "metadata": {},
   "outputs": [
    {
     "name": "stdout",
     "output_type": "stream",
     "text": [
      "        Job Satisfaction  Overall Engagement\n",
      "Gender                                      \n",
      "Female          2.777778            3.666667\n",
      "Male            3.333333            3.000000\n"
     ]
    }
   ],
   "source": [
    "# Group by Gender and calculate mean for Job Satisfaction and Overall Engagement\n",
    "gender_stats = data.groupby('Gender')[['Job Satisfaction', 'Overall Engagement']].mean()\n",
    "print(gender_stats)"
   ]
  },
  {
   "cell_type": "markdown",
   "id": "84c21adb-d191-462d-89b7-c50c721a6c11",
   "metadata": {},
   "source": [
    "### Ethnicity and Job Satisfaction"
   ]
  },
  {
   "cell_type": "code",
   "execution_count": 50,
   "id": "ea53a37d-f7a0-40d3-8d48-05411b8837fc",
   "metadata": {},
   "outputs": [
    {
     "name": "stdout",
     "output_type": "stream",
     "text": [
      "                  Job Satisfaction  Overall Engagement\n",
      "Ethnicity                                             \n",
      "African American          3.500000            2.500000\n",
      "Asian                     2.500000            4.000000\n",
      "Caucasian                 4.000000            3.000000\n",
      "Hispanic                  4.000000            5.000000\n",
      "Indian                    1.666667            3.666667\n",
      "Middle Eastern            3.000000            3.250000\n"
     ]
    }
   ],
   "source": [
    "# Group by Ethnicity and calculate mean for Job Satisfaction and Overall Engagement\n",
    "ethnicity_stats = data.groupby('Ethnicity')[['Job Satisfaction', 'Overall Engagement']].mean()\n",
    "print(ethnicity_stats)"
   ]
  },
  {
   "cell_type": "markdown",
   "id": "eb1b5175-67df-4400-924a-392332c8400d",
   "metadata": {},
   "source": [
    "## Step 5: Hypothesis Testing\n",
    "### Comparison of Job Satisfaction between HR and Sales Departments"
   ]
  },
  {
   "cell_type": "code",
   "execution_count": 60,
   "id": "2addf7cf-bdcd-427d-989e-18d9f9a38de0",
   "metadata": {},
   "outputs": [
    {
     "name": "stdout",
     "output_type": "stream",
     "text": [
      "T-statistic: 1.0\n",
      "P-value: 0.41402217981507056\n"
     ]
    }
   ],
   "source": [
    "# Filter data for HR and Sales departments\n",
    "hr_job_satisfaction = data[data['Department'] == 'HR']['Job Satisfaction'].dropna()\n",
    "sales_job_satisfaction = data[data['Department'] == 'Sales']['Job Satisfaction'].dropna()\n",
    "\n",
    "# Perform an independent t-test\n",
    "t_stat, p_value = ttest_ind(hr_job_satisfaction, sales_job_satisfaction, equal_var=False)\n",
    "\n",
    "# Print the results\n",
    "print(\"T-statistic:\", t_stat)\n",
    "print(\"P-value:\", p_value)"
   ]
  },
  {
   "cell_type": "markdown",
   "id": "a674fb78-b97f-42aa-8002-c6a98d5e2622",
   "metadata": {},
   "source": [
    "### Conclusion: \n",
    "Since the p-value is greater than the significance level of 0.05, we fail to reject the null hypothesis. Therefore, we conclude that **there is no statistically significant difference in Job Satisfaction between the HR and Sales departments.** This suggests that employees in both departments report similar levels of job satisfaction."
   ]
  },
  {
   "cell_type": "markdown",
   "id": "f5297669-e674-45c8-b529-11f05366b4e9",
   "metadata": {},
   "source": [
    "## Step 6: Correlation Analysis\n",
    "### Relationship between Work-Life Balance and Overall Engagement"
   ]
  },
  {
   "cell_type": "code",
   "execution_count": 61,
   "id": "f58122ee-edfe-4de2-8602-e57ad38511ad",
   "metadata": {},
   "outputs": [
    {
     "name": "stdout",
     "output_type": "stream",
     "text": [
      "Correlation Coefficient between Work-Life Balance and Overall Engagement: -0.361040820409166\n"
     ]
    }
   ],
   "source": [
    "# Define the mapping for Likert scale responses\n",
    "likert_scale = {\n",
    "    'Strongly Disagree': 1,\n",
    "    'Disagree': 2,\n",
    "    'Neutral': 3,\n",
    "    'Agree': 4,\n",
    "    'Strongly Agree': 5\n",
    "}\n",
    "\n",
    "# Convert Work-Life Balance to numeric values\n",
    "data['Work-Life Balance'] = data['Work-Life Balance'].map(likert_scale)\n",
    "\n",
    "# Calculate the correlation coefficient between Work-Life Balance and Overall Engagement\n",
    "correlation_coefficient = data['Work-Life Balance'].corr(data['Overall Engagement'])\n",
    "\n",
    "# Print the correlation coefficient\n",
    "print(\"Correlation Coefficient between Work-Life Balance and Overall Engagement:\", correlation_coefficient)"
   ]
  },
  {
   "cell_type": "markdown",
   "id": "9175b717-810a-4b95-8a25-4f2ab238e6ff",
   "metadata": {},
   "source": [
    "### Conclusion:\n",
    "A moderate **negative correlation** suggests that as work-life balance improves, overall engagement tends to decrease, indicating potential underlying issues."
   ]
  },
  {
   "cell_type": "markdown",
   "id": "1aa923b1-9707-4049-bb75-ec4f503a1e04",
   "metadata": {},
   "source": [
    "## Recommendations\n",
    "1. **Explore Underlying Factors**: Investigate why there is a negative correlation between Work-Life Balance and Overall Engagement.\n",
    "2. **Targeted Initiatives**: Implement programs to improve both work-life balance and engagement, such as flexible working hours.\n",
    "\n",
    "## Conclusion\n",
    "This analysis provides insights into employee satisfaction and engagement across various demographics and departments. Further investigation is recommended to address the issues identified and enhance the overall employee experience."
   ]
  }
 ],
 "metadata": {
  "kernelspec": {
   "display_name": "Python 3 (ipykernel)",
   "language": "python",
   "name": "python3"
  },
  "language_info": {
   "codemirror_mode": {
    "name": "ipython",
    "version": 3
   },
   "file_extension": ".py",
   "mimetype": "text/x-python",
   "name": "python",
   "nbconvert_exporter": "python",
   "pygments_lexer": "ipython3",
   "version": "3.12.4"
  }
 },
 "nbformat": 4,
 "nbformat_minor": 5
}
